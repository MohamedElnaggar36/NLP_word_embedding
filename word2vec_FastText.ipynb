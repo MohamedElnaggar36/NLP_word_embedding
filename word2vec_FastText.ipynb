{
 "cells": [
  {
   "cell_type": "code",
   "execution_count": 1,
   "id": "730d7a58",
   "metadata": {
    "_cell_guid": "b1076dfc-b9ad-4769-8c92-a6c4dae69d19",
    "_uuid": "8f2839f25d086af736a60e9eeb907d3b93b6e0e5",
    "execution": {
     "iopub.execute_input": "2022-07-29T19:45:19.593965Z",
     "iopub.status.busy": "2022-07-29T19:45:19.593193Z",
     "iopub.status.idle": "2022-07-29T19:45:21.653666Z",
     "shell.execute_reply": "2022-07-29T19:45:21.652055Z"
    },
    "papermill": {
     "duration": 2.079835,
     "end_time": "2022-07-29T19:45:21.656838",
     "exception": false,
     "start_time": "2022-07-29T19:45:19.577003",
     "status": "completed"
    },
    "tags": []
   },
   "outputs": [
    {
     "name": "stdout",
     "output_type": "stream",
     "text": [
      "/kaggle/input/yelp-dataset/Dataset_User_Agreement.pdf\n",
      "/kaggle/input/yelp-dataset/yelp_academic_dataset_review.json\n",
      "/kaggle/input/yelp-dataset/yelp_academic_dataset_checkin.json\n",
      "/kaggle/input/yelp-dataset/yelp_academic_dataset_business.json\n",
      "/kaggle/input/yelp-dataset/yelp_academic_dataset_tip.json\n",
      "/kaggle/input/yelp-dataset/yelp_academic_dataset_user.json\n"
     ]
    }
   ],
   "source": [
    "# This Python 3 environment comes with many helpful analytics libraries installed\n",
    "# It is defined by the kaggle/python Docker image: https://github.com/kaggle/docker-python\n",
    "# For example, here's several helpful packages to load\n",
    "\n",
    "import numpy as np # linear algebra\n",
    "import pandas as pd # data processing, CSV file I/O (e.g. pd.read_csv)\n",
    "import re\n",
    "from tqdm import tqdm\n",
    "\n",
    "from nltk.tokenize import word_tokenize\n",
    "from gensim.models.fasttext import FastText\n",
    "from sklearn.decomposition import PCA\n",
    "from sklearn.manifold import TSNE\n",
    "\n",
    "import seaborn as sns\n",
    "import matplotlib.pyplot as plt\n",
    "\n",
    "\n",
    "# Input data files are available in the read-only \"../input/\" directory\n",
    "# For example, running this (by clicking run or pressing Shift+Enter) will list all files under the input directory\n",
    "\n",
    "import os\n",
    "for dirname, _, filenames in os.walk('/kaggle/input'):\n",
    "    for filename in filenames:\n",
    "        print(os.path.join(dirname, filename))\n",
    "\n",
    "# You can write up to 20GB to the current directory (/kaggle/working/) that gets preserved as output when you create a version using \"Save & Run All\" \n",
    "# You can also write temporary files to /kaggle/temp/, but they won't be saved outside of the current session"
   ]
  },
  {
   "cell_type": "code",
   "execution_count": 2,
   "id": "bcabffa2",
   "metadata": {
    "execution": {
     "iopub.execute_input": "2022-07-29T19:45:21.685786Z",
     "iopub.status.busy": "2022-07-29T19:45:21.685427Z",
     "iopub.status.idle": "2022-07-29T19:45:31.424969Z",
     "shell.execute_reply": "2022-07-29T19:45:31.422834Z"
    },
    "papermill": {
     "duration": 9.756798,
     "end_time": "2022-07-29T19:45:31.427330",
     "exception": false,
     "start_time": "2022-07-29T19:45:21.670532",
     "status": "completed"
    },
    "tags": []
   },
   "outputs": [
    {
     "data": {
      "text/html": [
       "<div>\n",
       "<style scoped>\n",
       "    .dataframe tbody tr th:only-of-type {\n",
       "        vertical-align: middle;\n",
       "    }\n",
       "\n",
       "    .dataframe tbody tr th {\n",
       "        vertical-align: top;\n",
       "    }\n",
       "\n",
       "    .dataframe thead th {\n",
       "        text-align: right;\n",
       "    }\n",
       "</style>\n",
       "<table border=\"1\" class=\"dataframe\">\n",
       "  <thead>\n",
       "    <tr style=\"text-align: right;\">\n",
       "      <th></th>\n",
       "      <th>user_id</th>\n",
       "      <th>business_id</th>\n",
       "      <th>text</th>\n",
       "      <th>date</th>\n",
       "      <th>compliment_count</th>\n",
       "    </tr>\n",
       "  </thead>\n",
       "  <tbody>\n",
       "    <tr>\n",
       "      <th>0</th>\n",
       "      <td>AGNUgVwnZUey3gcPCJ76iw</td>\n",
       "      <td>3uLgwr0qeCNMjKenHJwPGQ</td>\n",
       "      <td>Avengers time with the ladies.</td>\n",
       "      <td>2012-05-18 02:17:21</td>\n",
       "      <td>0</td>\n",
       "    </tr>\n",
       "    <tr>\n",
       "      <th>1</th>\n",
       "      <td>NBN4MgHP9D3cw--SnauTkA</td>\n",
       "      <td>QoezRbYQncpRqyrLH6Iqjg</td>\n",
       "      <td>They have lots of good deserts and tasty cuban...</td>\n",
       "      <td>2013-02-05 18:35:10</td>\n",
       "      <td>0</td>\n",
       "    </tr>\n",
       "    <tr>\n",
       "      <th>2</th>\n",
       "      <td>-copOvldyKh1qr-vzkDEvw</td>\n",
       "      <td>MYoRNLb5chwjQe3c_k37Gg</td>\n",
       "      <td>It's open even when you think it isn't</td>\n",
       "      <td>2013-08-18 00:56:08</td>\n",
       "      <td>0</td>\n",
       "    </tr>\n",
       "    <tr>\n",
       "      <th>3</th>\n",
       "      <td>FjMQVZjSqY8syIO-53KFKw</td>\n",
       "      <td>hV-bABTK-glh5wj31ps_Jw</td>\n",
       "      <td>Very decent fried chicken</td>\n",
       "      <td>2017-06-27 23:05:38</td>\n",
       "      <td>0</td>\n",
       "    </tr>\n",
       "    <tr>\n",
       "      <th>4</th>\n",
       "      <td>ld0AperBXk1h6UbqmM80zw</td>\n",
       "      <td>_uN0OudeJ3Zl_tf6nxg5ww</td>\n",
       "      <td>Appetizers.. platter special for lunch</td>\n",
       "      <td>2012-10-06 19:43:09</td>\n",
       "      <td>0</td>\n",
       "    </tr>\n",
       "  </tbody>\n",
       "</table>\n",
       "</div>"
      ],
      "text/plain": [
       "                  user_id             business_id  \\\n",
       "0  AGNUgVwnZUey3gcPCJ76iw  3uLgwr0qeCNMjKenHJwPGQ   \n",
       "1  NBN4MgHP9D3cw--SnauTkA  QoezRbYQncpRqyrLH6Iqjg   \n",
       "2  -copOvldyKh1qr-vzkDEvw  MYoRNLb5chwjQe3c_k37Gg   \n",
       "3  FjMQVZjSqY8syIO-53KFKw  hV-bABTK-glh5wj31ps_Jw   \n",
       "4  ld0AperBXk1h6UbqmM80zw  _uN0OudeJ3Zl_tf6nxg5ww   \n",
       "\n",
       "                                                text                date  \\\n",
       "0                     Avengers time with the ladies. 2012-05-18 02:17:21   \n",
       "1  They have lots of good deserts and tasty cuban... 2013-02-05 18:35:10   \n",
       "2             It's open even when you think it isn't 2013-08-18 00:56:08   \n",
       "3                          Very decent fried chicken 2017-06-27 23:05:38   \n",
       "4             Appetizers.. platter special for lunch 2012-10-06 19:43:09   \n",
       "\n",
       "   compliment_count  \n",
       "0                 0  \n",
       "1                 0  \n",
       "2                 0  \n",
       "3                 0  \n",
       "4                 0  "
      ]
     },
     "execution_count": 2,
     "metadata": {},
     "output_type": "execute_result"
    }
   ],
   "source": [
    "path = \"../input/yelp-dataset/yelp_academic_dataset_tip.json\"\n",
    "df = pd.read_json(path, lines = True)\n",
    "df.head()"
   ]
  },
  {
   "cell_type": "code",
   "execution_count": 3,
   "id": "e8168850",
   "metadata": {
    "execution": {
     "iopub.execute_input": "2022-07-29T19:45:31.456317Z",
     "iopub.status.busy": "2022-07-29T19:45:31.455918Z",
     "iopub.status.idle": "2022-07-29T19:45:31.462396Z",
     "shell.execute_reply": "2022-07-29T19:45:31.461332Z"
    },
    "papermill": {
     "duration": 0.023663,
     "end_time": "2022-07-29T19:45:31.464641",
     "exception": false,
     "start_time": "2022-07-29T19:45:31.440978",
     "status": "completed"
    },
    "tags": []
   },
   "outputs": [
    {
     "data": {
      "text/plain": [
       "(908915, 5)"
      ]
     },
     "execution_count": 3,
     "metadata": {},
     "output_type": "execute_result"
    }
   ],
   "source": [
    "df.shape"
   ]
  },
  {
   "cell_type": "code",
   "execution_count": 4,
   "id": "c1cbcd69",
   "metadata": {
    "execution": {
     "iopub.execute_input": "2022-07-29T19:45:31.495531Z",
     "iopub.status.busy": "2022-07-29T19:45:31.494813Z",
     "iopub.status.idle": "2022-07-29T19:45:31.853165Z",
     "shell.execute_reply": "2022-07-29T19:45:31.852054Z"
    },
    "papermill": {
     "duration": 0.375934,
     "end_time": "2022-07-29T19:45:31.855661",
     "exception": false,
     "start_time": "2022-07-29T19:45:31.479727",
     "status": "completed"
    },
    "tags": []
   },
   "outputs": [
    {
     "data": {
      "text/plain": [
       "user_id             0\n",
       "business_id         0\n",
       "text                0\n",
       "date                0\n",
       "compliment_count    0\n",
       "dtype: int64"
      ]
     },
     "execution_count": 4,
     "metadata": {},
     "output_type": "execute_result"
    }
   ],
   "source": [
    "df.isnull().sum()"
   ]
  },
  {
   "cell_type": "code",
   "execution_count": 5,
   "id": "1ec06666",
   "metadata": {
    "execution": {
     "iopub.execute_input": "2022-07-29T19:45:31.886031Z",
     "iopub.status.busy": "2022-07-29T19:45:31.885625Z",
     "iopub.status.idle": "2022-07-29T19:45:31.891094Z",
     "shell.execute_reply": "2022-07-29T19:45:31.890020Z"
    },
    "papermill": {
     "duration": 0.023474,
     "end_time": "2022-07-29T19:45:31.893381",
     "exception": false,
     "start_time": "2022-07-29T19:45:31.869907",
     "status": "completed"
    },
    "tags": []
   },
   "outputs": [],
   "source": [
    "df_sample = df[:10_000]"
   ]
  },
  {
   "cell_type": "code",
   "execution_count": 6,
   "id": "801c3f04",
   "metadata": {
    "execution": {
     "iopub.execute_input": "2022-07-29T19:45:31.923569Z",
     "iopub.status.busy": "2022-07-29T19:45:31.922840Z",
     "iopub.status.idle": "2022-07-29T19:45:31.928810Z",
     "shell.execute_reply": "2022-07-29T19:45:31.927829Z"
    },
    "papermill": {
     "duration": 0.023516,
     "end_time": "2022-07-29T19:45:31.930967",
     "exception": false,
     "start_time": "2022-07-29T19:45:31.907451",
     "status": "completed"
    },
    "tags": []
   },
   "outputs": [],
   "source": [
    "data = df_sample.loc[0:, 'text'].tolist()"
   ]
  },
  {
   "cell_type": "code",
   "execution_count": 7,
   "id": "ca6993fa",
   "metadata": {
    "execution": {
     "iopub.execute_input": "2022-07-29T19:45:31.961320Z",
     "iopub.status.busy": "2022-07-29T19:45:31.960938Z",
     "iopub.status.idle": "2022-07-29T19:45:31.967328Z",
     "shell.execute_reply": "2022-07-29T19:45:31.966207Z"
    },
    "papermill": {
     "duration": 0.024213,
     "end_time": "2022-07-29T19:45:31.969543",
     "exception": false,
     "start_time": "2022-07-29T19:45:31.945330",
     "status": "completed"
    },
    "tags": []
   },
   "outputs": [
    {
     "data": {
      "text/plain": [
       "['Avengers time with the ladies.',\n",
       " 'They have lots of good deserts and tasty cuban sandwiches',\n",
       " \"It's open even when you think it isn't\",\n",
       " 'Very decent fried chicken',\n",
       " 'Appetizers.. platter special for lunch']"
      ]
     },
     "execution_count": 7,
     "metadata": {},
     "output_type": "execute_result"
    }
   ],
   "source": [
    "data[0:5]"
   ]
  },
  {
   "cell_type": "markdown",
   "id": "a2798a3a",
   "metadata": {
    "papermill": {
     "duration": 0.014501,
     "end_time": "2022-07-29T19:45:31.998084",
     "exception": false,
     "start_time": "2022-07-29T19:45:31.983583",
     "status": "completed"
    },
    "tags": []
   },
   "source": [
    "### Remove Extra WhiteSpaces from text"
   ]
  },
  {
   "cell_type": "code",
   "execution_count": 8,
   "id": "60efdf90",
   "metadata": {
    "execution": {
     "iopub.execute_input": "2022-07-29T19:45:32.028473Z",
     "iopub.status.busy": "2022-07-29T19:45:32.028093Z",
     "iopub.status.idle": "2022-07-29T19:45:32.032755Z",
     "shell.execute_reply": "2022-07-29T19:45:32.031662Z"
    },
    "papermill": {
     "duration": 0.022409,
     "end_time": "2022-07-29T19:45:32.034852",
     "exception": false,
     "start_time": "2022-07-29T19:45:32.012443",
     "status": "completed"
    },
    "tags": []
   },
   "outputs": [],
   "source": [
    "def remove_extra_spaces(text):\n",
    "    text = text.strip()\n",
    "    return \" \".join(text.split())"
   ]
  },
  {
   "cell_type": "code",
   "execution_count": 9,
   "id": "65bb950f",
   "metadata": {
    "execution": {
     "iopub.execute_input": "2022-07-29T19:45:32.065098Z",
     "iopub.status.busy": "2022-07-29T19:45:32.064490Z",
     "iopub.status.idle": "2022-07-29T19:45:32.085387Z",
     "shell.execute_reply": "2022-07-29T19:45:32.084505Z"
    },
    "papermill": {
     "duration": 0.038934,
     "end_time": "2022-07-29T19:45:32.087769",
     "exception": false,
     "start_time": "2022-07-29T19:45:32.048835",
     "status": "completed"
    },
    "tags": []
   },
   "outputs": [],
   "source": [
    "data = list(map(lambda text: remove_extra_spaces(text), data))"
   ]
  },
  {
   "cell_type": "code",
   "execution_count": 10,
   "id": "e237cdb6",
   "metadata": {
    "execution": {
     "iopub.execute_input": "2022-07-29T19:45:32.117865Z",
     "iopub.status.busy": "2022-07-29T19:45:32.117188Z",
     "iopub.status.idle": "2022-07-29T19:45:32.123743Z",
     "shell.execute_reply": "2022-07-29T19:45:32.122852Z"
    },
    "papermill": {
     "duration": 0.023971,
     "end_time": "2022-07-29T19:45:32.125747",
     "exception": false,
     "start_time": "2022-07-29T19:45:32.101776",
     "status": "completed"
    },
    "tags": []
   },
   "outputs": [
    {
     "data": {
      "text/plain": [
       "['Avengers time with the ladies.',\n",
       " 'They have lots of good deserts and tasty cuban sandwiches',\n",
       " \"It's open even when you think it isn't\",\n",
       " 'Very decent fried chicken',\n",
       " 'Appetizers.. platter special for lunch']"
      ]
     },
     "execution_count": 10,
     "metadata": {},
     "output_type": "execute_result"
    }
   ],
   "source": [
    "data[0:5]"
   ]
  },
  {
   "cell_type": "markdown",
   "id": "7fa5cf12",
   "metadata": {
    "papermill": {
     "duration": 0.013762,
     "end_time": "2022-07-29T19:45:32.153573",
     "exception": false,
     "start_time": "2022-07-29T19:45:32.139811",
     "status": "completed"
    },
    "tags": []
   },
   "source": [
    "### Remove all special characters "
   ]
  },
  {
   "cell_type": "code",
   "execution_count": 11,
   "id": "e4d605d2",
   "metadata": {
    "execution": {
     "iopub.execute_input": "2022-07-29T19:45:32.183825Z",
     "iopub.status.busy": "2022-07-29T19:45:32.183048Z",
     "iopub.status.idle": "2022-07-29T19:45:32.188250Z",
     "shell.execute_reply": "2022-07-29T19:45:32.187352Z"
    },
    "papermill": {
     "duration": 0.022923,
     "end_time": "2022-07-29T19:45:32.190519",
     "exception": false,
     "start_time": "2022-07-29T19:45:32.167596",
     "status": "completed"
    },
    "tags": []
   },
   "outputs": [],
   "source": [
    "def remove_special_chars(text):\n",
    "    return re.sub('\\W+',' ', text)"
   ]
  },
  {
   "cell_type": "code",
   "execution_count": 12,
   "id": "6101dedc",
   "metadata": {
    "execution": {
     "iopub.execute_input": "2022-07-29T19:45:32.221044Z",
     "iopub.status.busy": "2022-07-29T19:45:32.220313Z",
     "iopub.status.idle": "2022-07-29T19:45:32.301985Z",
     "shell.execute_reply": "2022-07-29T19:45:32.301075Z"
    },
    "papermill": {
     "duration": 0.099755,
     "end_time": "2022-07-29T19:45:32.304487",
     "exception": false,
     "start_time": "2022-07-29T19:45:32.204732",
     "status": "completed"
    },
    "tags": []
   },
   "outputs": [],
   "source": [
    "data = list(map(lambda text: remove_special_chars(text), data))"
   ]
  },
  {
   "cell_type": "code",
   "execution_count": 13,
   "id": "77364465",
   "metadata": {
    "execution": {
     "iopub.execute_input": "2022-07-29T19:45:32.334682Z",
     "iopub.status.busy": "2022-07-29T19:45:32.334300Z",
     "iopub.status.idle": "2022-07-29T19:45:32.341294Z",
     "shell.execute_reply": "2022-07-29T19:45:32.340213Z"
    },
    "papermill": {
     "duration": 0.024915,
     "end_time": "2022-07-29T19:45:32.343536",
     "exception": false,
     "start_time": "2022-07-29T19:45:32.318621",
     "status": "completed"
    },
    "tags": []
   },
   "outputs": [
    {
     "data": {
      "text/plain": [
       "['Avengers time with the ladies ',\n",
       " 'They have lots of good deserts and tasty cuban sandwiches',\n",
       " 'It s open even when you think it isn t',\n",
       " 'Very decent fried chicken',\n",
       " 'Appetizers platter special for lunch']"
      ]
     },
     "execution_count": 13,
     "metadata": {},
     "output_type": "execute_result"
    }
   ],
   "source": [
    "data[0:5]"
   ]
  },
  {
   "cell_type": "markdown",
   "id": "db1d6c11",
   "metadata": {
    "papermill": {
     "duration": 0.014302,
     "end_time": "2022-07-29T19:45:32.372742",
     "exception": false,
     "start_time": "2022-07-29T19:45:32.358440",
     "status": "completed"
    },
    "tags": []
   },
   "source": [
    "### Remove Single Characters in text"
   ]
  },
  {
   "cell_type": "code",
   "execution_count": 14,
   "id": "5ed9d5fb",
   "metadata": {
    "execution": {
     "iopub.execute_input": "2022-07-29T19:45:32.403550Z",
     "iopub.status.busy": "2022-07-29T19:45:32.402808Z",
     "iopub.status.idle": "2022-07-29T19:45:32.408159Z",
     "shell.execute_reply": "2022-07-29T19:45:32.407409Z"
    },
    "papermill": {
     "duration": 0.02312,
     "end_time": "2022-07-29T19:45:32.410336",
     "exception": false,
     "start_time": "2022-07-29T19:45:32.387216",
     "status": "completed"
    },
    "tags": []
   },
   "outputs": [],
   "source": [
    "def remove_single_chars(text):\n",
    "    return ' '.join([w for w in text.split() if len(w)>1])"
   ]
  },
  {
   "cell_type": "code",
   "execution_count": 15,
   "id": "b65fa0f1",
   "metadata": {
    "execution": {
     "iopub.execute_input": "2022-07-29T19:45:32.440963Z",
     "iopub.status.busy": "2022-07-29T19:45:32.440186Z",
     "iopub.status.idle": "2022-07-29T19:45:32.475748Z",
     "shell.execute_reply": "2022-07-29T19:45:32.474606Z"
    },
    "papermill": {
     "duration": 0.053858,
     "end_time": "2022-07-29T19:45:32.478471",
     "exception": false,
     "start_time": "2022-07-29T19:45:32.424613",
     "status": "completed"
    },
    "tags": []
   },
   "outputs": [],
   "source": [
    "data = list(map(lambda text: remove_single_chars(text), data))"
   ]
  },
  {
   "cell_type": "code",
   "execution_count": 16,
   "id": "2af58782",
   "metadata": {
    "execution": {
     "iopub.execute_input": "2022-07-29T19:45:32.508799Z",
     "iopub.status.busy": "2022-07-29T19:45:32.508048Z",
     "iopub.status.idle": "2022-07-29T19:45:32.515280Z",
     "shell.execute_reply": "2022-07-29T19:45:32.514419Z"
    },
    "papermill": {
     "duration": 0.024752,
     "end_time": "2022-07-29T19:45:32.517377",
     "exception": false,
     "start_time": "2022-07-29T19:45:32.492625",
     "status": "completed"
    },
    "tags": []
   },
   "outputs": [
    {
     "data": {
      "text/plain": [
       "['Avengers time with the ladies',\n",
       " 'They have lots of good deserts and tasty cuban sandwiches',\n",
       " 'It open even when you think it isn',\n",
       " 'Very decent fried chicken',\n",
       " 'Appetizers platter special for lunch']"
      ]
     },
     "execution_count": 16,
     "metadata": {},
     "output_type": "execute_result"
    }
   ],
   "source": [
    "data[0:5]"
   ]
  },
  {
   "cell_type": "markdown",
   "id": "13e176c9",
   "metadata": {
    "papermill": {
     "duration": 0.014024,
     "end_time": "2022-07-29T19:45:32.545966",
     "exception": false,
     "start_time": "2022-07-29T19:45:32.531942",
     "status": "completed"
    },
    "tags": []
   },
   "source": [
    "### Convert text to lower"
   ]
  },
  {
   "cell_type": "code",
   "execution_count": 17,
   "id": "78832360",
   "metadata": {
    "execution": {
     "iopub.execute_input": "2022-07-29T19:45:32.576593Z",
     "iopub.status.busy": "2022-07-29T19:45:32.575829Z",
     "iopub.status.idle": "2022-07-29T19:45:32.580790Z",
     "shell.execute_reply": "2022-07-29T19:45:32.579986Z"
    },
    "papermill": {
     "duration": 0.022778,
     "end_time": "2022-07-29T19:45:32.583002",
     "exception": false,
     "start_time": "2022-07-29T19:45:32.560224",
     "status": "completed"
    },
    "tags": []
   },
   "outputs": [],
   "source": [
    "def convert_to_lower(text):\n",
    "    return text.lower()"
   ]
  },
  {
   "cell_type": "code",
   "execution_count": 18,
   "id": "6b7b42e3",
   "metadata": {
    "execution": {
     "iopub.execute_input": "2022-07-29T19:45:32.613818Z",
     "iopub.status.busy": "2022-07-29T19:45:32.613050Z",
     "iopub.status.idle": "2022-07-29T19:45:32.621752Z",
     "shell.execute_reply": "2022-07-29T19:45:32.620919Z"
    },
    "papermill": {
     "duration": 0.026727,
     "end_time": "2022-07-29T19:45:32.624185",
     "exception": false,
     "start_time": "2022-07-29T19:45:32.597458",
     "status": "completed"
    },
    "tags": []
   },
   "outputs": [],
   "source": [
    "data = list(map(lambda text: convert_to_lower(text), data))"
   ]
  },
  {
   "cell_type": "code",
   "execution_count": 19,
   "id": "c6071d92",
   "metadata": {
    "execution": {
     "iopub.execute_input": "2022-07-29T19:45:32.655346Z",
     "iopub.status.busy": "2022-07-29T19:45:32.654568Z",
     "iopub.status.idle": "2022-07-29T19:45:32.661717Z",
     "shell.execute_reply": "2022-07-29T19:45:32.660835Z"
    },
    "papermill": {
     "duration": 0.025555,
     "end_time": "2022-07-29T19:45:32.663951",
     "exception": false,
     "start_time": "2022-07-29T19:45:32.638396",
     "status": "completed"
    },
    "tags": []
   },
   "outputs": [
    {
     "data": {
      "text/plain": [
       "['avengers time with the ladies',\n",
       " 'they have lots of good deserts and tasty cuban sandwiches',\n",
       " 'it open even when you think it isn',\n",
       " 'very decent fried chicken',\n",
       " 'appetizers platter special for lunch']"
      ]
     },
     "execution_count": 19,
     "metadata": {},
     "output_type": "execute_result"
    }
   ],
   "source": [
    "data[0:5]"
   ]
  },
  {
   "cell_type": "code",
   "execution_count": 20,
   "id": "02b4a1ed",
   "metadata": {
    "execution": {
     "iopub.execute_input": "2022-07-29T19:45:32.694708Z",
     "iopub.status.busy": "2022-07-29T19:45:32.694341Z",
     "iopub.status.idle": "2022-07-29T19:45:34.329450Z",
     "shell.execute_reply": "2022-07-29T19:45:34.328518Z"
    },
    "papermill": {
     "duration": 1.653283,
     "end_time": "2022-07-29T19:45:34.332038",
     "exception": false,
     "start_time": "2022-07-29T19:45:32.678755",
     "status": "completed"
    },
    "tags": []
   },
   "outputs": [],
   "source": [
    "tokenized = []\n",
    "for i in range(0, len(data)):\n",
    "    tokenized.append(word_tokenize(data[i]))"
   ]
  },
  {
   "cell_type": "markdown",
   "id": "7dfd9505",
   "metadata": {
    "papermill": {
     "duration": 0.014488,
     "end_time": "2022-07-29T19:45:34.360974",
     "exception": false,
     "start_time": "2022-07-29T19:45:34.346486",
     "status": "completed"
    },
    "tags": []
   },
   "source": [
    "### Tokenization"
   ]
  },
  {
   "cell_type": "code",
   "execution_count": 21,
   "id": "c7e4ff6c",
   "metadata": {
    "execution": {
     "iopub.execute_input": "2022-07-29T19:45:34.392589Z",
     "iopub.status.busy": "2022-07-29T19:45:34.391827Z",
     "iopub.status.idle": "2022-07-29T19:45:34.399698Z",
     "shell.execute_reply": "2022-07-29T19:45:34.398864Z"
    },
    "papermill": {
     "duration": 0.026306,
     "end_time": "2022-07-29T19:45:34.401833",
     "exception": false,
     "start_time": "2022-07-29T19:45:34.375527",
     "status": "completed"
    },
    "tags": []
   },
   "outputs": [
    {
     "data": {
      "text/plain": [
       "[['avengers', 'time', 'with', 'the', 'ladies'],\n",
       " ['they',\n",
       "  'have',\n",
       "  'lots',\n",
       "  'of',\n",
       "  'good',\n",
       "  'deserts',\n",
       "  'and',\n",
       "  'tasty',\n",
       "  'cuban',\n",
       "  'sandwiches'],\n",
       " ['it', 'open', 'even', 'when', 'you', 'think', 'it', 'isn'],\n",
       " ['very', 'decent', 'fried', 'chicken'],\n",
       " ['appetizers', 'platter', 'special', 'for', 'lunch']]"
      ]
     },
     "execution_count": 21,
     "metadata": {},
     "output_type": "execute_result"
    }
   ],
   "source": [
    "tokenized[0:5]"
   ]
  },
  {
   "cell_type": "markdown",
   "id": "f4bafd65",
   "metadata": {
    "papermill": {
     "duration": 0.014195,
     "end_time": "2022-07-29T19:45:34.430303",
     "exception": false,
     "start_time": "2022-07-29T19:45:34.416108",
     "status": "completed"
    },
    "tags": []
   },
   "source": [
    "### Lemmatization"
   ]
  },
  {
   "cell_type": "code",
   "execution_count": 22,
   "id": "4362bd6e",
   "metadata": {
    "execution": {
     "iopub.execute_input": "2022-07-29T19:45:34.461604Z",
     "iopub.status.busy": "2022-07-29T19:45:34.460553Z",
     "iopub.status.idle": "2022-07-29T19:45:34.465847Z",
     "shell.execute_reply": "2022-07-29T19:45:34.464681Z"
    },
    "papermill": {
     "duration": 0.023264,
     "end_time": "2022-07-29T19:45:34.468133",
     "exception": false,
     "start_time": "2022-07-29T19:45:34.444869",
     "status": "completed"
    },
    "tags": []
   },
   "outputs": [],
   "source": [
    "from nltk.stem import WordNetLemmatizer\n",
    "  \n",
    "lemmatizer = WordNetLemmatizer()"
   ]
  },
  {
   "cell_type": "code",
   "execution_count": 23,
   "id": "c9b6e7a1",
   "metadata": {
    "execution": {
     "iopub.execute_input": "2022-07-29T19:45:34.499045Z",
     "iopub.status.busy": "2022-07-29T19:45:34.498303Z",
     "iopub.status.idle": "2022-07-29T19:45:35.201986Z",
     "shell.execute_reply": "2022-07-29T19:45:35.200894Z"
    },
    "papermill": {
     "duration": 0.721884,
     "end_time": "2022-07-29T19:45:35.204372",
     "exception": false,
     "start_time": "2022-07-29T19:45:34.482488",
     "status": "completed"
    },
    "tags": []
   },
   "outputs": [
    {
     "name": "stderr",
     "output_type": "stream",
     "text": [
      "[nltk_data] Downloading package omw-1.4 to /usr/share/nltk_data...\n"
     ]
    },
    {
     "data": {
      "text/plain": [
       "True"
      ]
     },
     "execution_count": 23,
     "metadata": {},
     "output_type": "execute_result"
    }
   ],
   "source": [
    "import nltk\n",
    "nltk.download('omw-1.4')"
   ]
  },
  {
   "cell_type": "code",
   "execution_count": 24,
   "id": "01708e46",
   "metadata": {
    "execution": {
     "iopub.execute_input": "2022-07-29T19:45:35.235311Z",
     "iopub.status.busy": "2022-07-29T19:45:35.234941Z",
     "iopub.status.idle": "2022-07-29T19:45:37.929945Z",
     "shell.execute_reply": "2022-07-29T19:45:37.929009Z"
    },
    "papermill": {
     "duration": 2.713541,
     "end_time": "2022-07-29T19:45:37.932518",
     "exception": false,
     "start_time": "2022-07-29T19:45:35.218977",
     "status": "completed"
    },
    "tags": []
   },
   "outputs": [],
   "source": [
    "lemmatized = []\n",
    "for i in range(0, len(tokenized)):\n",
    "    for j in range(0, len(tokenized[i])):\n",
    "        lemmatized.append(lemmatizer.lemmatize(tokenized[i][j]))"
   ]
  },
  {
   "cell_type": "code",
   "execution_count": 25,
   "id": "eb58a17e",
   "metadata": {
    "execution": {
     "iopub.execute_input": "2022-07-29T19:45:37.964493Z",
     "iopub.status.busy": "2022-07-29T19:45:37.963743Z",
     "iopub.status.idle": "2022-07-29T19:45:37.970433Z",
     "shell.execute_reply": "2022-07-29T19:45:37.969687Z"
    },
    "papermill": {
     "duration": 0.025215,
     "end_time": "2022-07-29T19:45:37.972605",
     "exception": false,
     "start_time": "2022-07-29T19:45:37.947390",
     "status": "completed"
    },
    "tags": []
   },
   "outputs": [
    {
     "data": {
      "text/plain": [
       "['avenger',\n",
       " 'time',\n",
       " 'with',\n",
       " 'the',\n",
       " 'lady',\n",
       " 'they',\n",
       " 'have',\n",
       " 'lot',\n",
       " 'of',\n",
       " 'good',\n",
       " 'desert',\n",
       " 'and',\n",
       " 'tasty',\n",
       " 'cuban',\n",
       " 'sandwich',\n",
       " 'it',\n",
       " 'open',\n",
       " 'even',\n",
       " 'when',\n",
       " 'you']"
      ]
     },
     "execution_count": 25,
     "metadata": {},
     "output_type": "execute_result"
    }
   ],
   "source": [
    "lemmatized[0:20]"
   ]
  },
  {
   "cell_type": "markdown",
   "id": "3000b2af",
   "metadata": {
    "papermill": {
     "duration": 0.014626,
     "end_time": "2022-07-29T19:45:38.002149",
     "exception": false,
     "start_time": "2022-07-29T19:45:37.987523",
     "status": "completed"
    },
    "tags": []
   },
   "source": [
    "### Remove StopWords"
   ]
  },
  {
   "cell_type": "code",
   "execution_count": 26,
   "id": "7f68997b",
   "metadata": {
    "execution": {
     "iopub.execute_input": "2022-07-29T19:45:38.033852Z",
     "iopub.status.busy": "2022-07-29T19:45:38.033447Z",
     "iopub.status.idle": "2022-07-29T19:45:38.052033Z",
     "shell.execute_reply": "2022-07-29T19:45:38.051151Z"
    },
    "papermill": {
     "duration": 0.037023,
     "end_time": "2022-07-29T19:45:38.054434",
     "exception": false,
     "start_time": "2022-07-29T19:45:38.017411",
     "status": "completed"
    },
    "tags": []
   },
   "outputs": [],
   "source": [
    "from nltk.corpus import stopwords\n",
    "  \n",
    "stop_words = set(stopwords.words('english'))\n",
    "  \n",
    "filtered_data = [word for word in lemmatized if not word in stop_words]\n",
    "  "
   ]
  },
  {
   "cell_type": "code",
   "execution_count": 27,
   "id": "7db5e885",
   "metadata": {
    "execution": {
     "iopub.execute_input": "2022-07-29T19:45:38.086086Z",
     "iopub.status.busy": "2022-07-29T19:45:38.085710Z",
     "iopub.status.idle": "2022-07-29T19:45:38.092021Z",
     "shell.execute_reply": "2022-07-29T19:45:38.091223Z"
    },
    "papermill": {
     "duration": 0.024515,
     "end_time": "2022-07-29T19:45:38.093924",
     "exception": false,
     "start_time": "2022-07-29T19:45:38.069409",
     "status": "completed"
    },
    "tags": []
   },
   "outputs": [
    {
     "data": {
      "text/plain": [
       "['avenger',\n",
       " 'time',\n",
       " 'lady',\n",
       " 'lot',\n",
       " 'good',\n",
       " 'desert',\n",
       " 'tasty',\n",
       " 'cuban',\n",
       " 'sandwich',\n",
       " 'open',\n",
       " 'even',\n",
       " 'think',\n",
       " 'decent',\n",
       " 'fried',\n",
       " 'chicken',\n",
       " 'appetizer',\n",
       " 'platter',\n",
       " 'special',\n",
       " 'lunch',\n",
       " 'chili']"
      ]
     },
     "execution_count": 27,
     "metadata": {},
     "output_type": "execute_result"
    }
   ],
   "source": [
    "filtered_data[0:20]"
   ]
  },
  {
   "cell_type": "markdown",
   "id": "059b45c7",
   "metadata": {
    "papermill": {
     "duration": 0.014858,
     "end_time": "2022-07-29T19:45:38.123750",
     "exception": false,
     "start_time": "2022-07-29T19:45:38.108892",
     "status": "completed"
    },
    "tags": []
   },
   "source": [
    "### Remove words length less than 3"
   ]
  },
  {
   "cell_type": "code",
   "execution_count": 28,
   "id": "f4667b63",
   "metadata": {
    "execution": {
     "iopub.execute_input": "2022-07-29T19:45:38.155476Z",
     "iopub.status.busy": "2022-07-29T19:45:38.154794Z",
     "iopub.status.idle": "2022-07-29T19:45:38.158942Z",
     "shell.execute_reply": "2022-07-29T19:45:38.158200Z"
    },
    "papermill": {
     "duration": 0.022204,
     "end_time": "2022-07-29T19:45:38.160846",
     "exception": false,
     "start_time": "2022-07-29T19:45:38.138642",
     "status": "completed"
    },
    "tags": []
   },
   "outputs": [],
   "source": [
    "def remove_long_words(word):\n",
    "    return re.sub(r'\\b\\w{1,3}\\b', '', word)"
   ]
  },
  {
   "cell_type": "code",
   "execution_count": 29,
   "id": "b1c2febe",
   "metadata": {
    "execution": {
     "iopub.execute_input": "2022-07-29T19:45:38.192447Z",
     "iopub.status.busy": "2022-07-29T19:45:38.191764Z",
     "iopub.status.idle": "2022-07-29T19:45:38.319885Z",
     "shell.execute_reply": "2022-07-29T19:45:38.318967Z"
    },
    "papermill": {
     "duration": 0.146719,
     "end_time": "2022-07-29T19:45:38.322344",
     "exception": false,
     "start_time": "2022-07-29T19:45:38.175625",
     "status": "completed"
    },
    "tags": []
   },
   "outputs": [],
   "source": [
    "data = list(map(lambda word: remove_long_words(word), filtered_data))"
   ]
  },
  {
   "cell_type": "code",
   "execution_count": 30,
   "id": "019a35b4",
   "metadata": {
    "execution": {
     "iopub.execute_input": "2022-07-29T19:45:38.354238Z",
     "iopub.status.busy": "2022-07-29T19:45:38.353566Z",
     "iopub.status.idle": "2022-07-29T19:45:38.359179Z",
     "shell.execute_reply": "2022-07-29T19:45:38.358462Z"
    },
    "papermill": {
     "duration": 0.023784,
     "end_time": "2022-07-29T19:45:38.361100",
     "exception": false,
     "start_time": "2022-07-29T19:45:38.337316",
     "status": "completed"
    },
    "tags": []
   },
   "outputs": [
    {
     "data": {
      "text/plain": [
       "['avenger',\n",
       " 'time',\n",
       " 'lady',\n",
       " '',\n",
       " 'good',\n",
       " 'desert',\n",
       " 'tasty',\n",
       " 'cuban',\n",
       " 'sandwich',\n",
       " 'open']"
      ]
     },
     "execution_count": 30,
     "metadata": {},
     "output_type": "execute_result"
    }
   ],
   "source": [
    "data[0:10]"
   ]
  },
  {
   "cell_type": "code",
   "execution_count": 31,
   "id": "e0d32721",
   "metadata": {
    "execution": {
     "iopub.execute_input": "2022-07-29T19:45:38.393186Z",
     "iopub.status.busy": "2022-07-29T19:45:38.392515Z",
     "iopub.status.idle": "2022-07-29T19:45:38.408364Z",
     "shell.execute_reply": "2022-07-29T19:45:38.407511Z"
    },
    "papermill": {
     "duration": 0.03475,
     "end_time": "2022-07-29T19:45:38.410811",
     "exception": false,
     "start_time": "2022-07-29T19:45:38.376061",
     "status": "completed"
    },
    "tags": []
   },
   "outputs": [],
   "source": [
    "data_cleaned = []\n",
    "for i in data:\n",
    "    if i != '':\n",
    "        data_cleaned.append(i)"
   ]
  },
  {
   "cell_type": "code",
   "execution_count": 32,
   "id": "9093b286",
   "metadata": {
    "execution": {
     "iopub.execute_input": "2022-07-29T19:45:38.443067Z",
     "iopub.status.busy": "2022-07-29T19:45:38.442366Z",
     "iopub.status.idle": "2022-07-29T19:45:38.449021Z",
     "shell.execute_reply": "2022-07-29T19:45:38.447927Z"
    },
    "papermill": {
     "duration": 0.025359,
     "end_time": "2022-07-29T19:45:38.451288",
     "exception": false,
     "start_time": "2022-07-29T19:45:38.425929",
     "status": "completed"
    },
    "tags": []
   },
   "outputs": [
    {
     "data": {
      "text/plain": [
       "['avenger',\n",
       " 'time',\n",
       " 'lady',\n",
       " 'good',\n",
       " 'desert',\n",
       " 'tasty',\n",
       " 'cuban',\n",
       " 'sandwich',\n",
       " 'open',\n",
       " 'even']"
      ]
     },
     "execution_count": 32,
     "metadata": {},
     "output_type": "execute_result"
    }
   ],
   "source": [
    "data_cleaned[0:10]"
   ]
  },
  {
   "cell_type": "code",
   "execution_count": 33,
   "id": "6007cd3a",
   "metadata": {
    "execution": {
     "iopub.execute_input": "2022-07-29T19:45:38.484172Z",
     "iopub.status.busy": "2022-07-29T19:45:38.483084Z",
     "iopub.status.idle": "2022-07-29T19:45:38.862825Z",
     "shell.execute_reply": "2022-07-29T19:45:38.861508Z"
    },
    "papermill": {
     "duration": 0.398929,
     "end_time": "2022-07-29T19:45:38.865397",
     "exception": false,
     "start_time": "2022-07-29T19:45:38.466468",
     "status": "completed"
    },
    "tags": []
   },
   "outputs": [
    {
     "name": "stderr",
     "output_type": "stream",
     "text": [
      "100%|██████████| 56403/56403 [00:00<00:00, 153440.59it/s]\n"
     ]
    }
   ],
   "source": [
    "word_tokenizer = nltk.WordPunctTokenizer()\n",
    "word_tokens = [word_tokenizer.tokenize(sent) for sent in tqdm(data_cleaned)]"
   ]
  },
  {
   "cell_type": "code",
   "execution_count": 34,
   "id": "b559c4de",
   "metadata": {
    "execution": {
     "iopub.execute_input": "2022-07-29T19:45:38.899015Z",
     "iopub.status.busy": "2022-07-29T19:45:38.898605Z",
     "iopub.status.idle": "2022-07-29T19:45:38.906164Z",
     "shell.execute_reply": "2022-07-29T19:45:38.905024Z"
    },
    "papermill": {
     "duration": 0.026698,
     "end_time": "2022-07-29T19:45:38.908398",
     "exception": false,
     "start_time": "2022-07-29T19:45:38.881700",
     "status": "completed"
    },
    "tags": []
   },
   "outputs": [
    {
     "data": {
      "text/plain": [
       "[['avenger'],\n",
       " ['time'],\n",
       " ['lady'],\n",
       " ['good'],\n",
       " ['desert'],\n",
       " ['tasty'],\n",
       " ['cuban'],\n",
       " ['sandwich'],\n",
       " ['open'],\n",
       " ['even']]"
      ]
     },
     "execution_count": 34,
     "metadata": {},
     "output_type": "execute_result"
    }
   ],
   "source": [
    "word_tokens[0:10]"
   ]
  },
  {
   "cell_type": "markdown",
   "id": "9957afac",
   "metadata": {
    "papermill": {
     "duration": 0.015405,
     "end_time": "2022-07-29T19:45:38.939701",
     "exception": false,
     "start_time": "2022-07-29T19:45:38.924296",
     "status": "completed"
    },
    "tags": []
   },
   "source": [
    "### Train fastText word embeddings"
   ]
  },
  {
   "cell_type": "code",
   "execution_count": 35,
   "id": "2fc9b124",
   "metadata": {
    "execution": {
     "iopub.execute_input": "2022-07-29T19:45:38.972776Z",
     "iopub.status.busy": "2022-07-29T19:45:38.972249Z",
     "iopub.status.idle": "2022-07-29T19:46:01.227402Z",
     "shell.execute_reply": "2022-07-29T19:46:01.226225Z"
    },
    "papermill": {
     "duration": 22.2747,
     "end_time": "2022-07-29T19:46:01.230091",
     "exception": false,
     "start_time": "2022-07-29T19:45:38.955391",
     "status": "completed"
    },
    "tags": []
   },
   "outputs": [],
   "source": [
    "embedding_size = 300\n",
    "window_size = 5\n",
    "min_word = 5\n",
    "down_sampling = 1e-2\n",
    "\n",
    "fast_Text_model = FastText(word_tokens,\n",
    "                      vector_size=embedding_size,\n",
    "                      window=window_size,\n",
    "                      min_count=min_word,\n",
    "                      sample=down_sampling,\n",
    "                      workers = 4,\n",
    "                      sg=1,\n",
    "                      epochs=150)"
   ]
  },
  {
   "cell_type": "markdown",
   "id": "4b3ed733",
   "metadata": {
    "papermill": {
     "duration": 0.015772,
     "end_time": "2022-07-29T19:46:01.261697",
     "exception": false,
     "start_time": "2022-07-29T19:46:01.245925",
     "status": "completed"
    },
    "tags": []
   },
   "source": [
    "### Exploring FastText Model"
   ]
  },
  {
   "cell_type": "code",
   "execution_count": 36,
   "id": "a3cce8c8",
   "metadata": {
    "execution": {
     "iopub.execute_input": "2022-07-29T19:46:01.294791Z",
     "iopub.status.busy": "2022-07-29T19:46:01.294383Z",
     "iopub.status.idle": "2022-07-29T19:46:01.305755Z",
     "shell.execute_reply": "2022-07-29T19:46:01.304643Z"
    },
    "papermill": {
     "duration": 0.030463,
     "end_time": "2022-07-29T19:46:01.307944",
     "exception": false,
     "start_time": "2022-07-29T19:46:01.277481",
     "status": "completed"
    },
    "tags": []
   },
   "outputs": [
    {
     "data": {
      "text/plain": [
       "array([-7.13005420e-06, -1.87157802e-05, -7.86850869e-04, -1.08747881e-04,\n",
       "       -1.15523813e-04,  5.14295360e-04,  5.06694836e-04,  3.26134352e-04,\n",
       "        1.38953596e-03, -2.84209294e-04, -1.30470237e-03,  2.24846357e-04,\n",
       "        1.97442525e-04,  3.89346038e-04,  6.23983564e-04,  5.51446574e-04,\n",
       "        5.75571263e-04,  1.54703821e-03,  4.34491783e-04, -2.84285896e-04,\n",
       "        2.49629287e-04, -8.27680167e-04, -1.76106041e-04, -7.88717356e-04,\n",
       "       -1.39180920e-04,  3.65995686e-04, -1.45978120e-04,  5.88578347e-04,\n",
       "       -3.75888631e-04,  2.73409009e-04,  3.29253526e-04, -9.59879893e-04,\n",
       "        9.86192841e-04,  3.41818464e-04, -1.26705354e-03, -1.10788234e-04,\n",
       "        1.40956731e-03, -6.53272902e-04, -7.80611124e-04, -3.38587328e-04,\n",
       "        3.55134922e-04, -4.36491187e-04,  9.74150142e-04,  3.63435451e-04,\n",
       "       -2.90167198e-04, -1.11054205e-05, -1.65382167e-03, -5.27845288e-04,\n",
       "       -8.19815963e-04,  3.41984822e-04, -6.25228742e-04,  8.16801694e-05,\n",
       "        1.07342785e-04,  2.82456778e-04, -3.00066167e-04, -2.97430757e-04,\n",
       "        3.54885822e-04, -5.84540248e-04,  2.97035644e-04, -8.88265029e-04,\n",
       "        1.44441918e-04, -8.63309542e-05, -1.78294221e-03,  3.05807771e-04,\n",
       "       -8.81468586e-04, -3.21126776e-04,  2.11129474e-04,  3.11361626e-04,\n",
       "       -4.57716640e-04,  1.21818751e-03, -1.52531997e-04, -3.05980182e-04,\n",
       "        8.35607585e-04, -2.28733942e-03, -2.98304105e-04,  6.65285916e-04,\n",
       "        1.64324080e-03, -1.76262707e-04,  9.13074065e-04,  3.47721420e-04,\n",
       "       -1.76708563e-04,  1.91805244e-04,  5.29775920e-04, -7.51301006e-04,\n",
       "       -7.67393329e-04, -1.49427669e-03,  1.18320961e-04, -1.32425237e-04,\n",
       "        1.65325089e-03,  2.26709162e-04, -7.51996646e-04,  4.37937706e-04,\n",
       "        1.32811849e-03,  1.50256688e-04, -3.20273422e-04,  2.22860649e-03,\n",
       "        1.06599752e-03, -3.30672920e-04, -2.01266492e-04,  1.07616710e-03,\n",
       "       -2.82424007e-04,  2.83593166e-04, -2.65400711e-04,  4.71084313e-05,\n",
       "        4.62054188e-04, -5.93909826e-05, -1.06802210e-03, -3.58060090e-04,\n",
       "       -4.32365312e-04,  4.16988041e-06, -6.49468682e-04,  1.02904101e-03,\n",
       "        2.48857745e-04, -3.58798919e-04,  6.83039834e-04, -1.34310103e-04,\n",
       "       -8.37150961e-04, -8.28805147e-04, -5.34077699e-04,  1.00262370e-03,\n",
       "        9.42985527e-04, -4.15868388e-04, -2.40942463e-04, -6.92608941e-04,\n",
       "       -8.84889159e-04,  9.95293492e-04,  1.02280069e-03,  2.08758793e-04,\n",
       "       -5.49857912e-04,  6.92152476e-04, -1.33940857e-03,  3.47962516e-04,\n",
       "        1.41546319e-04,  5.14319399e-05,  6.91001129e-04, -1.87482729e-04,\n",
       "        5.22572838e-04, -1.15895149e-04, -1.05387694e-03, -8.37455038e-04,\n",
       "        1.58226074e-04, -7.23819656e-04, -2.88450276e-04, -3.29710077e-04,\n",
       "       -3.09079624e-04,  1.52497052e-03,  8.69547148e-05, -9.69154702e-04,\n",
       "        1.14013336e-03,  8.09317920e-04,  8.36231848e-05, -2.61214183e-04,\n",
       "       -3.20841558e-04,  2.68003525e-04,  6.24123786e-04,  1.04784279e-03,\n",
       "       -6.36097800e-04, -8.42909620e-04, -1.02838874e-03,  8.15880951e-04,\n",
       "       -8.77395272e-04,  1.03277889e-04,  5.78993931e-05,  2.63975380e-04,\n",
       "       -3.92886204e-06,  5.75245882e-04, -2.08300003e-03,  2.96198908e-04,\n",
       "       -1.01140433e-03, -8.62612855e-04, -1.65660676e-04,  1.41321437e-03,\n",
       "       -8.77497951e-04,  7.19481788e-04, -2.11858758e-04,  1.35846355e-03,\n",
       "        6.17609068e-04,  4.06778017e-05, -5.03272458e-05,  7.16644165e-04,\n",
       "       -1.92747961e-04, -5.20417409e-04,  1.15515047e-03,  3.58395424e-04,\n",
       "        1.13853872e-04,  6.71836839e-04,  1.75515932e-04,  8.09101213e-04,\n",
       "        1.18251238e-03, -3.33626922e-05, -2.58647982e-04,  5.67656069e-04,\n",
       "        8.68861844e-06,  2.15443841e-04, -3.97448341e-04,  7.51645537e-04,\n",
       "       -3.65165208e-04,  1.84660210e-04,  2.67014057e-05, -6.50401285e-04,\n",
       "       -1.07879716e-03, -1.24592928e-03, -3.13572236e-04,  5.86953072e-04,\n",
       "        1.09359249e-03,  1.53273018e-03, -1.57436894e-04,  1.06831314e-03,\n",
       "        6.86911808e-05,  6.01372049e-05, -5.89755538e-04, -9.47907160e-04,\n",
       "       -3.53973970e-04,  9.40679631e-04,  3.56522040e-04, -9.34029289e-04,\n",
       "        7.10959546e-04, -5.47484560e-05,  3.80949437e-04, -5.60692861e-05,\n",
       "       -1.96098306e-04,  5.38163411e-04, -2.48287368e-04,  1.30963977e-03,\n",
       "        1.02633203e-03, -7.39182986e-04,  2.74651684e-04,  1.11892773e-03,\n",
       "       -4.20111930e-04, -1.44167279e-03, -2.78971595e-04,  1.26259867e-03,\n",
       "        1.18125732e-04,  1.02267938e-03, -1.23167888e-03, -4.58615432e-05,\n",
       "        8.84085821e-05, -2.63837911e-03,  3.37427715e-04, -6.14319288e-04,\n",
       "       -8.03363975e-04, -8.06444965e-04,  5.58873522e-04, -2.19955182e-04,\n",
       "        6.82105485e-04,  4.84452787e-04, -1.41693105e-03, -1.21566620e-04,\n",
       "       -2.98917148e-04, -6.52927847e-04, -7.33553432e-04, -1.14287097e-04,\n",
       "        2.79234286e-04, -1.13678619e-03,  1.03270565e-03,  3.47866095e-04,\n",
       "        4.45766287e-04,  5.49501739e-04, -1.48719686e-04,  1.52352860e-03,\n",
       "       -4.31244465e-04,  9.27239889e-05,  1.45293912e-03,  1.84720542e-04,\n",
       "       -1.01526537e-04,  2.47001386e-04,  2.30594320e-04, -9.29575544e-05,\n",
       "        2.80273642e-04,  4.40046220e-04, -7.15967093e-04,  3.18144943e-04,\n",
       "        1.20181683e-03, -5.91335818e-04, -1.68674614e-03, -1.35787844e-03,\n",
       "       -1.17532676e-03, -4.32593311e-04,  1.41261658e-03, -3.65219399e-04,\n",
       "        3.03051580e-04,  2.67100433e-04,  7.58842740e-04,  1.14329124e-03,\n",
       "        4.22485959e-04,  1.11785205e-03, -8.81663524e-04, -1.53728260e-03,\n",
       "       -7.93343410e-04, -5.90513693e-04,  2.13265594e-06,  8.12037833e-05,\n",
       "       -6.22222607e-04, -6.55996322e-04,  1.15784688e-03, -1.06987590e-03,\n",
       "        4.45308280e-04,  6.39062864e-06,  3.52895186e-05,  5.08564524e-04],\n",
       "      dtype=float32)"
      ]
     },
     "execution_count": 36,
     "metadata": {},
     "output_type": "execute_result"
    }
   ],
   "source": [
    "fast_Text_model.wv['cat']"
   ]
  },
  {
   "cell_type": "markdown",
   "id": "0f0927b3",
   "metadata": {
    "papermill": {
     "duration": 0.015654,
     "end_time": "2022-07-29T19:46:01.339790",
     "exception": false,
     "start_time": "2022-07-29T19:46:01.324136",
     "status": "completed"
    },
    "tags": []
   },
   "source": [
    "### Show most 10 not similar to a word"
   ]
  },
  {
   "cell_type": "code",
   "execution_count": 37,
   "id": "8d104fa5",
   "metadata": {
    "execution": {
     "iopub.execute_input": "2022-07-29T19:46:01.374742Z",
     "iopub.status.busy": "2022-07-29T19:46:01.373568Z",
     "iopub.status.idle": "2022-07-29T19:46:01.394014Z",
     "shell.execute_reply": "2022-07-29T19:46:01.392817Z"
    },
    "papermill": {
     "duration": 0.041537,
     "end_time": "2022-07-29T19:46:01.397312",
     "exception": false,
     "start_time": "2022-07-29T19:46:01.355775",
     "status": "completed"
    },
    "tags": []
   },
   "outputs": [
    {
     "data": {
      "text/plain": [
       "[('similar', 0.19435018301010132),\n",
       " ('brazilian', 0.17924325168132782),\n",
       " ('blood', 0.1743197739124298),\n",
       " ('simply', 0.16941459476947784),\n",
       " ('mimosa', 0.16594140231609344),\n",
       " ('first', 0.16075319051742554),\n",
       " ('hello', 0.1596033126115799),\n",
       " ('stellar', 0.15704688429832458),\n",
       " ('helpful', 0.1548035889863968),\n",
       " ('beyond', 0.1498652696609497)]"
      ]
     },
     "execution_count": 37,
     "metadata": {},
     "output_type": "execute_result"
    }
   ],
   "source": [
    "fast_Text_model.wv.most_similar(negative=[\"cat\"], topn=10)"
   ]
  },
  {
   "cell_type": "markdown",
   "id": "d2a0e978",
   "metadata": {
    "papermill": {
     "duration": 0.029549,
     "end_time": "2022-07-29T19:46:01.457680",
     "exception": false,
     "start_time": "2022-07-29T19:46:01.428131",
     "status": "completed"
    },
    "tags": []
   },
   "source": [
    "### Show most 10 similar to a word"
   ]
  },
  {
   "cell_type": "code",
   "execution_count": 38,
   "id": "a887ef97",
   "metadata": {
    "execution": {
     "iopub.execute_input": "2022-07-29T19:46:01.511760Z",
     "iopub.status.busy": "2022-07-29T19:46:01.511392Z",
     "iopub.status.idle": "2022-07-29T19:46:01.523002Z",
     "shell.execute_reply": "2022-07-29T19:46:01.521825Z"
    },
    "papermill": {
     "duration": 0.038321,
     "end_time": "2022-07-29T19:46:01.526192",
     "exception": false,
     "start_time": "2022-07-29T19:46:01.487871",
     "status": "completed"
    },
    "tags": []
   },
   "outputs": [
    {
     "data": {
      "text/plain": [
       "[('catch', 0.26898568868637085),\n",
       " ('catfish', 0.24275346100330353),\n",
       " ('goat', 0.20153744518756866),\n",
       " ('located', 0.20028027892112732),\n",
       " ('carne', 0.185199573636055),\n",
       " ('meat', 0.18500806391239166),\n",
       " ('carrot', 0.18442577123641968),\n",
       " ('possible', 0.18295633792877197),\n",
       " ('neat', 0.1786232441663742),\n",
       " ('cart', 0.17564652860164642)]"
      ]
     },
     "execution_count": 38,
     "metadata": {},
     "output_type": "execute_result"
    }
   ],
   "source": [
    "fast_Text_model.wv.most_similar('cat', topn=10)"
   ]
  },
  {
   "cell_type": "markdown",
   "id": "431b3cdc",
   "metadata": {
    "papermill": {
     "duration": 0.029632,
     "end_time": "2022-07-29T19:46:01.585855",
     "exception": false,
     "start_time": "2022-07-29T19:46:01.556223",
     "status": "completed"
    },
    "tags": []
   },
   "source": [
    "### Similarity between 2 words"
   ]
  },
  {
   "cell_type": "code",
   "execution_count": 39,
   "id": "7eb77137",
   "metadata": {
    "execution": {
     "iopub.execute_input": "2022-07-29T19:46:01.644424Z",
     "iopub.status.busy": "2022-07-29T19:46:01.644010Z",
     "iopub.status.idle": "2022-07-29T19:46:01.651148Z",
     "shell.execute_reply": "2022-07-29T19:46:01.650063Z"
    },
    "papermill": {
     "duration": 0.03696,
     "end_time": "2022-07-29T19:46:01.653351",
     "exception": false,
     "start_time": "2022-07-29T19:46:01.616391",
     "status": "completed"
    },
    "tags": []
   },
   "outputs": [
    {
     "data": {
      "text/plain": [
       "0.41555035"
      ]
     },
     "execution_count": 39,
     "metadata": {},
     "output_type": "execute_result"
    }
   ],
   "source": [
    "fast_Text_model.wv.similarity('football', 'ball')"
   ]
  },
  {
   "cell_type": "markdown",
   "id": "11a0df75",
   "metadata": {
    "papermill": {
     "duration": 0.01613,
     "end_time": "2022-07-29T19:46:01.685829",
     "exception": false,
     "start_time": "2022-07-29T19:46:01.669699",
     "status": "completed"
    },
    "tags": []
   },
   "source": [
    "### t-sne plot for similarity between words"
   ]
  },
  {
   "cell_type": "code",
   "execution_count": 40,
   "id": "b4881b1b",
   "metadata": {
    "execution": {
     "iopub.execute_input": "2022-07-29T19:46:01.720936Z",
     "iopub.status.busy": "2022-07-29T19:46:01.720006Z",
     "iopub.status.idle": "2022-07-29T19:46:02.248221Z",
     "shell.execute_reply": "2022-07-29T19:46:02.247117Z"
    },
    "papermill": {
     "duration": 0.548616,
     "end_time": "2022-07-29T19:46:02.250842",
     "exception": false,
     "start_time": "2022-07-29T19:46:01.702226",
     "status": "completed"
    },
    "tags": []
   },
   "outputs": [
    {
     "name": "stderr",
     "output_type": "stream",
     "text": [
      "/opt/conda/lib/python3.7/site-packages/sklearn/manifold/_t_sne.py:783: FutureWarning: The default initialization in TSNE will change from 'random' to 'pca' in 1.2.\n",
      "  FutureWarning,\n",
      "/opt/conda/lib/python3.7/site-packages/sklearn/manifold/_t_sne.py:793: FutureWarning: The default learning rate in TSNE will change from 200.0 to 'auto' in 1.2.\n",
      "  FutureWarning,\n"
     ]
    },
    {
     "data": {
      "image/png": "[encoded data removed]",
      "text/plain": [
       "<Figure size 432x288 with 1 Axes>"
      ]
     },
     "metadata": {
      "needs_background": "light"
     },
     "output_type": "display_data"
    }
   ],
   "source": [
    "# tsne plot for below word\n",
    "# for_word = 'food'\n",
    "def tsne_plot(for_word, w2v_model):\n",
    "    # trained fastText model dimention\n",
    "    dim_size = w2v_model.wv.vectors.shape[1]\n",
    " \n",
    "    arrays = np.empty((0, dim_size), dtype='f')\n",
    "    word_labels = [for_word]\n",
    "    color_list  = ['red']\n",
    " \n",
    "    # adds the vector of the query word\n",
    "    arrays = np.append(arrays, w2v_model.wv.__getitem__([for_word]), axis=0)\n",
    " \n",
    "    # gets list of most similar words\n",
    "    sim_words = w2v_model.wv.most_similar(for_word, topn=10)\n",
    " \n",
    "    # adds the vector for each of the closest words to the array\n",
    "    for wrd_score in sim_words:\n",
    "        wrd_vector = w2v_model.wv.__getitem__([wrd_score[0]])\n",
    "        word_labels.append(wrd_score[0])\n",
    "        color_list.append('green')\n",
    "        arrays = np.append(arrays, wrd_vector, axis=0)\n",
    " \n",
    "    #Apply PCA\n",
    "    model_pca = PCA(n_components = 10).fit_transform(arrays)\n",
    " \n",
    "    # Finds 2d coordinates t-SNE\n",
    "    np.set_printoptions(suppress=True)\n",
    "    Y = TSNE(n_components=2, random_state=0, perplexity=15).fit_transform(model_pca)\n",
    " \n",
    "    # Sets everything up to plot\n",
    "    df_plot = pd.DataFrame({\n",
    "        'x': [x for x in Y[:, 0]],\n",
    "        'y': [y for y in Y[:, 1]],\n",
    "        'words_name': word_labels,\n",
    "        'words_color': color_list})\n",
    " \n",
    "    #tsne plot\n",
    " \n",
    "    # plot dots with color and position\n",
    "    plot_dot = sns.regplot(data=df_plot,\n",
    "                     x=\"x\",\n",
    "                     y=\"y\",\n",
    "                     fit_reg=False,\n",
    "                     marker=\"o\",\n",
    "                     scatter_kws={'s': 40,\n",
    "                                  'facecolors': df_plot['words_color']\n",
    "                                 }\n",
    "                    )\n",
    " \n",
    "    # Adds annotations with color one by one with a loop\n",
    "    for line in range(0, df_plot.shape[0]):\n",
    "         plot_dot.text(df_plot[\"x\"][line],\n",
    "                 df_plot['y'][line],\n",
    "                 '  ' + df_plot[\"words_name\"][line].title(),\n",
    "                 horizontalalignment='left',\n",
    "                 verticalalignment='bottom', size='medium',\n",
    "                 color=df_plot['words_color'][line],\n",
    "                 weight='normal'\n",
    "                ).set_size(15)\n",
    " \n",
    " \n",
    "    plt.xlim(Y[:, 0].min()-50, Y[:, 0].max()+50)\n",
    "    plt.ylim(Y[:, 1].min()-50, Y[:, 1].max()+50)\n",
    " \n",
    "    plt.title('t-SNE visualization for word \"{}'.format(for_word.title()) +'\"')\n",
    "\n",
    "tsne_plot(for_word='cat', w2v_model=fast_Text_model)"
   ]
  },
  {
   "cell_type": "code",
   "execution_count": null,
   "id": "3f251e76",
   "metadata": {
    "papermill": {
     "duration": 0.01696,
     "end_time": "2022-07-29T19:46:02.284968",
     "exception": false,
     "start_time": "2022-07-29T19:46:02.268008",
     "status": "completed"
    },
    "tags": []
   },
   "outputs": [],
   "source": []
  },
  {
   "cell_type": "code",
   "execution_count": null,
   "id": "b2dd5532",
   "metadata": {
    "papermill": {
     "duration": 0.0168,
     "end_time": "2022-07-29T19:46:02.318809",
     "exception": false,
     "start_time": "2022-07-29T19:46:02.302009",
     "status": "completed"
    },
    "tags": []
   },
   "outputs": [],
   "source": []
  }
 ],
 "metadata": {
  "kernelspec": {
   "display_name": "Python 3",
   "language": "python",
   "name": "python3"
  },
  "language_info": {
   "codemirror_mode": {
    "name": "ipython",
    "version": 3
   },
   "file_extension": ".py",
   "mimetype": "text/x-python",
   "name": "python",
   "nbconvert_exporter": "python",
   "pygments_lexer": "ipython3",
   "version": "3.7.12"
  },
  "papermill": {
   "default_parameters": {},
   "duration": 53.94147,
   "end_time": "2022-07-29T19:46:03.760164",
   "environment_variables": {},
   "exception": null,
   "input_path": "__notebook__.ipynb",
   "output_path": "__notebook__.ipynb",
   "parameters": {},
   "start_time": "2022-07-29T19:45:09.818694",
   "version": "2.3.4"
  }
 },
 "nbformat": 4,
 "nbformat_minor": 5
}
